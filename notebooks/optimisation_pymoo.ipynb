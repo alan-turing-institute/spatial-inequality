{
 "cells": [
  {
   "cell_type": "markdown",
   "metadata": {},
   "source": [
    "## https://pymoo.org/getting_started.html"
   ]
  },
  {
   "cell_type": "code",
   "execution_count": 1,
   "metadata": {
    "scrolled": true
   },
   "outputs": [
    {
     "name": "stdout",
     "output_type": "stream",
     "text": [
      "Requirement already satisfied: pymoo==0.4.2.2 in /Users/jroberts/opt/anaconda3/envs/spineq-next/lib/python3.9/site-packages (0.4.2.2)\r\n",
      "Requirement already satisfied: matplotlib>=3 in /Users/jroberts/opt/anaconda3/envs/spineq-next/lib/python3.9/site-packages (from pymoo==0.4.2.2) (3.4.1)\r\n",
      "Requirement already satisfied: cma==2.7 in /Users/jroberts/opt/anaconda3/envs/spineq-next/lib/python3.9/site-packages (from pymoo==0.4.2.2) (2.7.0)\r\n",
      "Requirement already satisfied: autograd>=1.3 in /Users/jroberts/opt/anaconda3/envs/spineq-next/lib/python3.9/site-packages (from pymoo==0.4.2.2) (1.3)\r\n",
      "Requirement already satisfied: numpy>=1.15 in /Users/jroberts/opt/anaconda3/envs/spineq-next/lib/python3.9/site-packages (from pymoo==0.4.2.2) (1.20.2)\r\n",
      "Requirement already satisfied: scipy>=1.1 in /Users/jroberts/opt/anaconda3/envs/spineq-next/lib/python3.9/site-packages (from pymoo==0.4.2.2) (1.6.2)\r\n",
      "Requirement already satisfied: future>=0.15.2 in /Users/jroberts/opt/anaconda3/envs/spineq-next/lib/python3.9/site-packages (from autograd>=1.3->pymoo==0.4.2.2) (0.18.2)\r\n",
      "Requirement already satisfied: cycler>=0.10 in /Users/jroberts/opt/anaconda3/envs/spineq-next/lib/python3.9/site-packages (from matplotlib>=3->pymoo==0.4.2.2) (0.10.0)\r\n",
      "Requirement already satisfied: kiwisolver>=1.0.1 in /Users/jroberts/opt/anaconda3/envs/spineq-next/lib/python3.9/site-packages (from matplotlib>=3->pymoo==0.4.2.2) (1.3.1)\r\n",
      "Requirement already satisfied: pillow>=6.2.0 in /Users/jroberts/opt/anaconda3/envs/spineq-next/lib/python3.9/site-packages (from matplotlib>=3->pymoo==0.4.2.2) (8.1.2)\r\n",
      "Requirement already satisfied: pyparsing>=2.2.1 in /Users/jroberts/opt/anaconda3/envs/spineq-next/lib/python3.9/site-packages (from matplotlib>=3->pymoo==0.4.2.2) (2.4.7)\r\n",
      "Requirement already satisfied: python-dateutil>=2.7 in /Users/jroberts/opt/anaconda3/envs/spineq-next/lib/python3.9/site-packages (from matplotlib>=3->pymoo==0.4.2.2) (2.8.1)\r\n",
      "Requirement already satisfied: six in /Users/jroberts/opt/anaconda3/envs/spineq-next/lib/python3.9/site-packages (from cycler>=0.10->matplotlib>=3->pymoo==0.4.2.2) (1.15.0)\r\n"
     ]
    }
   ],
   "source": [
    "!pip install pymoo==0.4.2.2"
   ]
  },
  {
   "cell_type": "markdown",
   "metadata": {},
   "source": [
    "## Questions:\n",
    "\n",
    "- What are reference directions / how do they work? https://pymoo.org/misc/reference_directions.html\n",
    "\n"
   ]
  },
  {
   "cell_type": "code",
   "execution_count": 2,
   "metadata": {},
   "outputs": [],
   "source": [
    "import numpy as np\n",
    "from pymoo.util.misc import stack\n",
    "from pymoo.model.problem import Problem\n",
    "\n",
    "class MyProblem(Problem):\n",
    "\n",
    "    def __init__(self):\n",
    "        super().__init__(n_var=2,\n",
    "                         n_obj=2,\n",
    "                         n_constr=2,\n",
    "                         xl=np.array([-2,-2]),\n",
    "                         xu=np.array([2,2]))\n",
    "\n",
    "    def _evaluate(self, x, out, *args, **kwargs):\n",
    "        f1 = x[:,0]**2 + x[:,1]**2\n",
    "        f2 = (x[:,0]-1)**2 + x[:,1]**2\n",
    "\n",
    "        g1 = 2*(x[:, 0]-0.1) * (x[:, 0]-0.9) / 0.18\n",
    "        g2 = - 20*(x[:, 0]-0.4) * (x[:, 0]-0.6) / 4.8\n",
    "\n",
    "        out[\"F\"] = np.column_stack([f1, f2])\n",
    "        out[\"G\"] = np.column_stack([g1, g2])\n",
    "\n",
    "\n",
    "    # --------------------------------------------------\n",
    "    # Pareto-front - not necessary but used for plotting\n",
    "    # --------------------------------------------------\n",
    "    def _calc_pareto_front(self, flatten=True, **kwargs):\n",
    "        f1_a = np.linspace(0.1**2, 0.4**2, 100)\n",
    "        f2_a = (np.sqrt(f1_a) - 1)**2\n",
    "\n",
    "        f1_b = np.linspace(0.6**2, 0.9**2, 100)\n",
    "        f2_b = (np.sqrt(f1_b) - 1)**2\n",
    "\n",
    "        a, b = np.column_stack([f1_a, f2_a]), np.column_stack([f1_b, f2_b])\n",
    "        return stack(a, b, flatten=flatten)\n",
    "\n",
    "    # --------------------------------------------------\n",
    "    # Pareto-set - not necessary but used for plotting\n",
    "    # --------------------------------------------------\n",
    "    def _calc_pareto_set(self, flatten=True, **kwargs):\n",
    "        x1_a = np.linspace(0.1, 0.4, 50)\n",
    "        x1_b = np.linspace(0.6, 0.9, 50)\n",
    "        x2 = np.zeros(50)\n",
    "\n",
    "        a, b = np.column_stack([x1_a, x2]), np.column_stack([x1_b, x2])\n",
    "        return stack(a,b, flatten=flatten)\n",
    "\n",
    "problem = MyProblem()"
   ]
  },
  {
   "cell_type": "code",
   "execution_count": 3,
   "metadata": {},
   "outputs": [],
   "source": [
    "from pymoo.factory import get_problem\n",
    "\n",
    "zdt1 = get_problem(\"zdt1\")"
   ]
  },
  {
   "cell_type": "code",
   "execution_count": 4,
   "metadata": {},
   "outputs": [],
   "source": [
    "from pymoo.algorithms.nsga2 import NSGA2\n",
    "from pymoo.factory import get_sampling, get_crossover, get_mutation\n",
    "\n",
    "algorithm = NSGA2(\n",
    "    pop_size=40,\n",
    "    n_offsprings=10,\n",
    "    sampling=get_sampling(\"real_random\"),\n",
    "    crossover=get_crossover(\"real_sbx\", prob=0.9, eta=15),\n",
    "    mutation=get_mutation(\"real_pm\", eta=20),\n",
    "    eliminate_duplicates=True\n",
    ")\n"
   ]
  },
  {
   "cell_type": "code",
   "execution_count": 5,
   "metadata": {},
   "outputs": [],
   "source": [
    "from pymoo.factory import get_termination\n",
    "\n",
    "termination = get_termination(\"n_gen\", 40)"
   ]
  },
  {
   "cell_type": "code",
   "execution_count": 6,
   "metadata": {},
   "outputs": [
    {
     "name": "stdout",
     "output_type": "stream",
     "text": [
      "==========================================================================================\n",
      "n_gen |  n_eval |   cv (min)   |   cv (avg)   |     igd      |      gd      |      hv     \n",
      "==========================================================================================\n",
      "    1 |      40 |  0.00000E+00 |  2.36399E+01 |  0.355456661 |  0.005362269 |  0.259340233\n",
      "    2 |      50 |  0.00000E+00 |  1.15486E+01 |  0.355456661 |  0.005362269 |  0.259340233\n",
      "    3 |      60 |  0.00000E+00 |  5.277918607 |  0.355456661 |  0.005362269 |  0.259340233\n",
      "    4 |      70 |  0.00000E+00 |  2.406068542 |  0.336177786 |  0.003791374 |  0.267747228\n",
      "    5 |      80 |  0.00000E+00 |  0.908316880 |  0.146187673 |  0.030825699 |  0.326821728\n",
      "    6 |      90 |  0.00000E+00 |  0.264746300 |  0.146187673 |  0.030825699 |  0.326821728\n",
      "    7 |     100 |  0.00000E+00 |  0.054063822 |  0.127166639 |  0.048434536 |  0.326821728\n",
      "    8 |     110 |  0.00000E+00 |  0.003060876 |  0.116635438 |  0.040756917 |  0.333328216\n",
      "    9 |     120 |  0.00000E+00 |  0.00000E+00 |  0.114104403 |  0.033780540 |  0.333467251\n",
      "   10 |     130 |  0.00000E+00 |  0.00000E+00 |  0.113905849 |  0.079757906 |  0.336916611\n",
      "   11 |     140 |  0.00000E+00 |  0.00000E+00 |  0.108326595 |  0.061746460 |  0.350973236\n",
      "   12 |     150 |  0.00000E+00 |  0.00000E+00 |  0.075994278 |  0.028407765 |  0.409709713\n",
      "   13 |     160 |  0.00000E+00 |  0.00000E+00 |  0.075900587 |  0.028006615 |  0.410363369\n",
      "   14 |     170 |  0.00000E+00 |  0.00000E+00 |  0.060504000 |  0.025567286 |  0.411662871\n",
      "   15 |     180 |  0.00000E+00 |  0.00000E+00 |  0.049446911 |  0.016289051 |  0.418530080\n",
      "   16 |     190 |  0.00000E+00 |  0.00000E+00 |  0.045458331 |  0.011383437 |  0.420489384\n",
      "   17 |     200 |  0.00000E+00 |  0.00000E+00 |  0.039469853 |  0.009911055 |  0.430486842\n",
      "   18 |     210 |  0.00000E+00 |  0.00000E+00 |  0.029430084 |  0.005849149 |  0.436066481\n",
      "   19 |     220 |  0.00000E+00 |  0.00000E+00 |  0.026914825 |  0.006440139 |  0.438071834\n",
      "   20 |     230 |  0.00000E+00 |  0.00000E+00 |  0.025819848 |  0.006597745 |  0.439045983\n",
      "   21 |     240 |  0.00000E+00 |  0.00000E+00 |  0.025538102 |  0.006092177 |  0.439313321\n",
      "   22 |     250 |  0.00000E+00 |  0.00000E+00 |  0.025430023 |  0.005831189 |  0.439357583\n",
      "   23 |     260 |  0.00000E+00 |  0.00000E+00 |  0.022907750 |  0.005325638 |  0.441118548\n",
      "   24 |     270 |  0.00000E+00 |  0.00000E+00 |  0.020729474 |  0.005408909 |  0.444667855\n",
      "   25 |     280 |  0.00000E+00 |  0.00000E+00 |  0.020685726 |  0.004700076 |  0.447352036\n",
      "   26 |     290 |  0.00000E+00 |  0.00000E+00 |  0.018021642 |  0.004673768 |  0.449131574\n",
      "   27 |     300 |  0.00000E+00 |  0.00000E+00 |  0.017734569 |  0.004981929 |  0.452104699\n",
      "   28 |     310 |  0.00000E+00 |  0.00000E+00 |  0.017256071 |  0.004906941 |  0.452453391\n",
      "   29 |     320 |  0.00000E+00 |  0.00000E+00 |  0.017099845 |  0.004821622 |  0.452586422\n",
      "   30 |     330 |  0.00000E+00 |  0.00000E+00 |  0.015604763 |  0.004715009 |  0.454343077\n",
      "   31 |     340 |  0.00000E+00 |  0.00000E+00 |  0.015494765 |  0.004509278 |  0.454689229\n",
      "   32 |     350 |  0.00000E+00 |  0.00000E+00 |  0.015494765 |  0.004509278 |  0.454689229\n",
      "   33 |     360 |  0.00000E+00 |  0.00000E+00 |  0.013269463 |  0.002882294 |  0.456133797\n",
      "   34 |     370 |  0.00000E+00 |  0.00000E+00 |  0.012326693 |  0.002872865 |  0.456726256\n",
      "   35 |     380 |  0.00000E+00 |  0.00000E+00 |  0.011929203 |  0.002718091 |  0.456859586\n",
      "   36 |     390 |  0.00000E+00 |  0.00000E+00 |  0.011452732 |  0.002668863 |  0.459103818\n",
      "   37 |     400 |  0.00000E+00 |  0.00000E+00 |  0.011187256 |  0.002467009 |  0.459278838\n",
      "   38 |     410 |  0.00000E+00 |  0.00000E+00 |  0.010961294 |  0.002442439 |  0.459731947\n",
      "   39 |     420 |  0.00000E+00 |  0.00000E+00 |  0.010982275 |  0.002847599 |  0.459564223\n",
      "   40 |     430 |  0.00000E+00 |  0.00000E+00 |  0.010485987 |  0.002833493 |  0.460033718\n"
     ]
    }
   ],
   "source": [
    "from pymoo.optimize import minimize\n",
    "\n",
    "res = minimize(problem,\n",
    "               algorithm,\n",
    "               termination,\n",
    "               seed=1,\n",
    "               pf=problem.pareto_front(use_cache=False),\n",
    "               save_history=True,\n",
    "               verbose=True)\n"
   ]
  },
  {
   "cell_type": "code",
   "execution_count": 7,
   "metadata": {},
   "outputs": [
    {
     "data": {
      "text/plain": [
       "<pymoo.visualization.scatter.Scatter at 0x17a269ee0>"
      ]
     },
     "execution_count": 7,
     "metadata": {},
     "output_type": "execute_result"
    },
    {
     "data": {
      "image/png": "[encoded data removed]",
      "text/plain": [
       "<Figure size 576x432 with 1 Axes>"
      ]
     },
     "metadata": {
      "needs_background": "light"
     },
     "output_type": "display_data"
    }
   ],
   "source": [
    "from pymoo.visualization.scatter import Scatter\n",
    "\n",
    "# get the pareto-set and pareto-front for plotting\n",
    "ps = problem.pareto_set(use_cache=False, flatten=False)\n",
    "pf = problem.pareto_front(use_cache=False, flatten=False)\n",
    "\n",
    "# Design Space\n",
    "plot = Scatter(title = \"Design Space\", axis_labels=\"x\")\n",
    "plot.add(res.X, s=30, facecolors='none', edgecolors='r')\n",
    "plot.add(ps, plot_type=\"line\", color=\"black\", alpha=0.7)\n",
    "plot.do()\n",
    "plot.apply(lambda ax: ax.set_xlim(-0.5, 1.5))\n",
    "plot.apply(lambda ax: ax.set_ylim(-2, 2))\n",
    "plot.show()\n",
    "\n",
    "# Objective Space\n",
    "plot = Scatter(title = \"Objective Space\")\n",
    "plot.add(res.F)\n",
    "plot.add(pf, plot_type=\"line\", color=\"black\", alpha=0.7)\n",
    "plot.show()"
   ]
  },
  {
   "cell_type": "code",
   "execution_count": 8,
   "metadata": {},
   "outputs": [
    {
     "data": {
      "image/png": "[encoded data removed]",
      "text/plain": [
       "<Figure size 432x288 with 1 Axes>"
      ]
     },
     "metadata": {
      "needs_background": "light"
     },
     "output_type": "display_data"
    }
   ],
   "source": [
    "import matplotlib.pyplot as plt\n",
    "from pymoo.performance_indicator.hv import Hypervolume\n",
    "\n",
    "# create the performance indicator object with reference point (4,4)\n",
    "metric = Hypervolume(ref_point=np.array([1.0, 1.0]))\n",
    "\n",
    "# collect the population in each generation\n",
    "pop_each_gen = [a.pop for a in res.history]\n",
    "\n",
    "# receive the population in each generation\n",
    "obj_and_feasible_each_gen = [pop[pop.get(\"feasible\")[:,0]].get(\"F\") for pop in pop_each_gen]\n",
    "\n",
    "# calculate for each generation the HV metric\n",
    "hv = [metric.calc(f) for f in obj_and_feasible_each_gen]\n",
    "\n",
    "# function evaluations at each snapshot\n",
    "n_evals = np.array([a.evaluator.n_eval for a in res.history])\n",
    "\n",
    "# visualze the convergence curve\n",
    "plt.plot(n_evals, hv, '-o')\n",
    "plt.title(\"Convergence\")\n",
    "plt.xlabel(\"Function Evaluations\")\n",
    "plt.ylabel(\"Hypervolume\")\n",
    "plt.show()"
   ]
  },
  {
   "cell_type": "code",
   "execution_count": null,
   "metadata": {},
   "outputs": [],
   "source": []
  }
 ],
 "metadata": {
  "kernelspec": {
   "display_name": "Python 3",
   "language": "python",
   "name": "python3"
  },
  "language_info": {
   "codemirror_mode": {
    "name": "ipython",
    "version": 3
   },
   "file_extension": ".py",
   "mimetype": "text/x-python",
   "name": "python",
   "nbconvert_exporter": "python",
   "pygments_lexer": "ipython3",
   "version": "3.9.2"
  }
 },
 "nbformat": 4,
 "nbformat_minor": 2
}
