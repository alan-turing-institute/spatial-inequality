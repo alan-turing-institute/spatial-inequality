{
 "cells": [
  {
   "cell_type": "code",
   "execution_count": 21,
   "metadata": {},
   "outputs": [],
   "source": [
    "from spineq.data_fetcher import get_traffic_counts\n",
    "from spineq.weights import calc_location_weights\n",
    "\n",
    "import contextily as ctx\n",
    "import matplotlib.pyplot as plt\n",
    "%matplotlib inline"
   ]
  },
  {
   "cell_type": "code",
   "execution_count": 6,
   "metadata": {},
   "outputs": [],
   "source": [
    "traffic_counts = get_traffic_counts()\n",
    "traffic_counts.head()"
   ]
  },
  {
   "cell_type": "code",
   "execution_count": 20,
   "metadata": {},
   "outputs": [],
   "source": [
    "traffic_counts[\"traffic_co\"].plot.hist(bins=20)\n",
    "\n",
    "traffic_counts[\"traffic_co\"].describe()"
   ]
  },
  {
   "cell_type": "code",
   "execution_count": 18,
   "metadata": {},
   "outputs": [],
   "source": [
    "fig, ax = plt.subplots(1,1, figsize=(10,10))\n",
    "markersize = 200*traffic_counts[\"traffic_co\"]/max(traffic_counts[\"traffic_co\"])\n",
    "traffic_counts.sort_values(by=\"traffic_co\").plot(\n",
    "    ax=ax,\n",
    "    markersize=markersize,\n",
    "    color=\"r\"\n",
    ")\n",
    "\n",
    "ctx.add_basemap(\n",
    "    ax,\n",
    "    source=\"http://a.tile.stamen.com/toner/{z}/{x}/{y}.png\",\n",
    "    crs=traffic_counts.crs.to_epsg()\n",
    ")"
   ]
  },
  {
   "cell_type": "markdown",
   "metadata": {},
   "source": [
    "## Traffic intersection counts only optimisation"
   ]
  },
  {
   "cell_type": "code",
   "execution_count": 22,
   "metadata": {},
   "outputs": [],
   "source": [
    "weights = calc_location_weights(\n",
    "    population_weight=1,\n",
    "    workplace_weight=0,\n",
    "    pop_age_groups={\n",
    "        \"pop_total\": {\"min\": 0, \"max\": 90, \"weight\": 1},\n",
    "        \"pop_children\": {\"min\": 0, \"max\": 16, \"weight\": 1},\n",
    "        \"pop_elderly\": {\"min\": 70, \"max\": 90, \"weight\": 0},\n",
    "    },\n",
    "    traffic_weight=1,\n",
    "    combine=False,\n",
    ")"
   ]
  },
  {
   "cell_type": "code",
   "execution_count": 10,
   "metadata": {},
   "outputs": [],
   "source": [
    "traffic_counts = get_traffic_counts()[\"traffic_co\"]\n",
    "traffic_weight = traffic_counts / traffic_counts.sum()\n",
    "traffic_weight.name = \"traffic\""
   ]
  },
  {
   "cell_type": "code",
   "execution_count": 11,
   "metadata": {},
   "outputs": [],
   "source": [
    "oa_weight = calc_location_weights(workplace_weight=1, combine=False)\n",
    "oa_weight"
   ]
  },
  {
   "cell_type": "code",
   "execution_count": 12,
   "metadata": {},
   "outputs": [],
   "source": [
    "all_weight = oa_weight.join(traffic_weight, how=\"outer\").fillna(0)\n",
    "all_weight"
   ]
  },
  {
   "cell_type": "code",
   "execution_count": 13,
   "metadata": {},
   "outputs": [],
   "source": [
    "oa_weight[\"poi_type\"] = \"oa\"\n",
    "\n",
    "traffic_weight = pd.DataFrame(traffic_weight)\n",
    "traffic_weight[\"poi_type\"] = \"intn\""
   ]
  },
  {
   "cell_type": "code",
   "execution_count": 14,
   "metadata": {},
   "outputs": [],
   "source": [
    "all_weight[\"poi_type\"] = np.nan\n",
    "all_weight.loc[all_weight.index.isin(oa_weight.index), \"poi_type\"] = \"output_area\"\n",
    "all_weight.loc[all_weight.index.isin(traffic_weight.index), \"poi_type\"] = \"intersection\"\n",
    "\n",
    "all_weight"
   ]
  },
  {
   "cell_type": "code",
   "execution_count": null,
   "metadata": {},
   "outputs": [],
   "source": []
  },
  {
   "cell_type": "code",
   "execution_count": null,
   "metadata": {},
   "outputs": [],
   "source": []
  }
 ],
 "metadata": {
  "kernelspec": {
   "display_name": "Python 3",
   "language": "python",
   "name": "python3"
  },
  "language_info": {
   "codemirror_mode": {
    "name": "ipython",
    "version": 3
   },
   "file_extension": ".py",
   "mimetype": "text/x-python",
   "name": "python",
   "nbconvert_exporter": "python",
   "pygments_lexer": "ipython3",
   "version": "3.7.6"
  }
 },
 "nbformat": 4,
 "nbformat_minor": 4
}
