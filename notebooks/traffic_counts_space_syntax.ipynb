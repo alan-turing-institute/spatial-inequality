{
 "cells": [
  {
   "cell_type": "code",
   "execution_count": null,
   "metadata": {},
   "outputs": [],
   "source": [
    "import numpy as np\n",
    "import pandas as pd\n",
    "import geopandas as gpd\n",
    "\n",
    "from scipy.stats import spearmanr\n",
    "from sklearn.linear_model import LinearRegression, PoissonRegressor\n",
    "from sklearn.metrics import r2_score\n",
    "\n",
    "from spineq.data_fetcher import get_oa_shapes, get_oa_centroids, get_la_shape\n",
    "from spineq.plotting import plot_oa_weights, get_color_axis, plot_optimisation_result\n",
    "from spineq.greedy import greedy_opt\n",
    "from spineq.optimise import make_result_dict, optimise\n",
    "from spineq.utils import coverage_matrix\n",
    "\n",
    "import contextily as ctx\n",
    "import matplotlib.pyplot as plt\n",
    "import seaborn as sns\n",
    "sns.set_context(\"talk\")\n",
    "%matplotlib inline\n"
   ]
  },
  {
   "cell_type": "code",
   "execution_count": null,
   "metadata": {},
   "outputs": [],
   "source": [
    "lad20cd = \"E08000037\" # \"E08000021\"  # \"E08000037\" "
   ]
  },
  {
   "cell_type": "markdown",
   "metadata": {},
   "source": [
    "## Space Syntax"
   ]
  },
  {
   "cell_type": "code",
   "execution_count": null,
   "metadata": {},
   "outputs": [],
   "source": [
    "ss = gpd.read_file(\"../data/raw/space_syntax/TyneandWear_geojson.geojson\")\n",
    "ss.rename(columns={\"id\": \"ss_id\"}, inplace=True)"
   ]
  },
  {
   "cell_type": "code",
   "execution_count": null,
   "metadata": {},
   "outputs": [],
   "source": [
    "# only keep space syntax segments intersecting or within local authority geometry\n",
    "la = get_la_shape(lad20cd)\n",
    "\n",
    "ss = ss[\n",
    "    ss.crosses(la.geometry)\n",
    "    | ss.within(la.geometry)\n",
    "]"
   ]
  },
  {
   "cell_type": "code",
   "execution_count": null,
   "metadata": {},
   "outputs": [],
   "source": [
    "ax = plt.figure(figsize=(20, 20)).gca()\n",
    "cax = get_color_axis(ax)\n",
    "ax = ss.plot(\n",
    "    column=\"AC__NACH\", alpha=1, cmap=\"YlOrRd\", legend=True, ax=ax, cax=cax, linewidth=4, zorder=2\n",
    ")\n",
    "\n",
    "ctx.add_basemap(\n",
    "    ax,\n",
    "    source=\"http://a.tile.stamen.com/toner/{z}/{x}/{y}.png\",\n",
    "    crs=ss.crs.to_epsg(),\n",
    ")\n",
    "ax.set_title(\"AC__NACH\")\n",
    "ax.set_axis_off()\n",
    "gpd.GeoSeries(la.geometry, crs=ss.crs).plot(\n",
    "    ax=ax, facecolor=\"None\", edgecolor=\"b\", linewidth=5, zorder=1\n",
    ")"
   ]
  },
  {
   "cell_type": "code",
   "execution_count": null,
   "metadata": {},
   "outputs": [],
   "source": [
    "ss[\"AC__NACH\"].plot.hist(bins=20)"
   ]
  },
  {
   "cell_type": "markdown",
   "metadata": {},
   "source": [
    "## Raw DFT Traffic Data"
   ]
  },
  {
   "cell_type": "code",
   "execution_count": null,
   "metadata": {},
   "outputs": [],
   "source": [
    "dft = pd.read_csv(\"../data/raw/dft/dft_traffic_counts_aadf.csv\")\n",
    "display(dft.head())\n",
    "len(dft)"
   ]
  },
  {
   "cell_type": "code",
   "execution_count": null,
   "metadata": {},
   "outputs": [],
   "source": [
    "select_year = 2019\n",
    "dft = dft[dft[\"year\"] == select_year]\n",
    "display(dft.head())\n",
    "len(dft)"
   ]
  },
  {
   "cell_type": "code",
   "execution_count": null,
   "metadata": {},
   "outputs": [],
   "source": [
    "dft = gpd.GeoDataFrame(dft, geometry=gpd.points_from_xy(dft[\"easting\"], dft[\"northing\"]),  crs=\"epsg:27700\")\n",
    "dft.rename(columns={\"id\": \"dft_id\"}, inplace=True)"
   ]
  },
  {
   "cell_type": "code",
   "execution_count": null,
   "metadata": {},
   "outputs": [],
   "source": [
    "dft = dft[\n",
    "    dft.crosses(la.geometry)\n",
    "    | dft.within(la.geometry)\n",
    "]\n",
    "\n",
    "display(dft)\n",
    "len(dft)"
   ]
  },
  {
   "cell_type": "code",
   "execution_count": null,
   "metadata": {},
   "outputs": [],
   "source": [
    "fig, ax = plt.subplots(1, 1, figsize=(20, 20))\n",
    "ss.plot(ax=ax, zorder=1, color=\"gray\", linewidth=0.75)\n",
    "dft.plot(ax=ax, markersize=64, column=dft[\"road_name\"].str[0], zorder=2, legend=True)\n",
    "ax.axis(\"off\")\n",
    "ax.set_title(\"DfT Traffic Count Points\", fontsize=20)"
   ]
  },
  {
   "cell_type": "markdown",
   "metadata": {},
   "source": [
    "### Snap DFT points to nearest  lines (roads) in space syntax model\n",
    "\n",
    "Following approach from:\n",
    "- https://medium.com/@brendan_ward/how-to-leverage-geopandas-for-faster-snapping-of-points-to-lines-6113c94e59aa\n"
   ]
  },
  {
   "cell_type": "code",
   "execution_count": null,
   "metadata": {},
   "outputs": [],
   "source": [
    "def match_dft_ss(\n",
    "    dft: pd.DataFrame, ss: gpd.GeoDataFrame, offset: float = 10, tolerance: float = 50\n",
    ") -> gpd.GeoDataFrame:\n",
    "    \"\"\"\n",
    "    Find the line segments in the space syntax data ss that are closest to the\n",
    "    traffic measurement points in dft.\n",
    "\n",
    "    Inspired by https://medium.com/@brendan_ward/6113c94e59aa\n",
    "    \"\"\"\n",
    "    ss.sindex  # Create spatial index (makes computation faster later)\n",
    "\n",
    "    # all space syntax (ss) segments that intersect DfT measurement points\n",
    "    # (within offset metres east/north of measurement point):\n",
    "    bbox = dft.bounds + [-offset, -offset, offset, offset]\n",
    "    hits = bbox.apply(lambda row: list(ss.sindex.intersection(row)), axis=1)\n",
    "\n",
    "    # convert hits to flat list (row cotaining list of matches, to rows each\n",
    "    # containing 1 match)\n",
    "    hits = pd.DataFrame(\n",
    "        {\n",
    "            # index of point in dft\n",
    "            \"pt_idx\": np.repeat(hits.index, hits.apply(len)),\n",
    "            # index of line segment in ss\n",
    "            \"line_idx\": np.concatenate(hits.values),\n",
    "        }\n",
    "    )\n",
    "\n",
    "    # Join ss and dft based on matched indices\n",
    "    hits = hits.join(ss.reset_index(drop=True), on=\"line_idx\")\n",
    "    hits = hits.join(dft.rename(columns={\"geometry\": \"point\"}), on=\"pt_idx\")\n",
    "    hits = gpd.GeoDataFrame(hits, geometry=\"geometry\", crs=dft.crs)\n",
    "\n",
    "    # calculate distances between points and matched line segments\n",
    "    hits[\"snap_dist\"] = hits.geometry.distance(gpd.GeoSeries(hits.point))\n",
    "    # discard any hits with more than tolerance metres between dft point\n",
    "    # and ss segment\n",
    "    hits = hits.loc[hits.snap_dist <= tolerance]\n",
    "\n",
    "    # Select closest dft point and ss segment match\n",
    "    hits = hits.sort_values(by=[\"snap_dist\"])\n",
    "    closest = hits.groupby(\"pt_idx\").first()\n",
    "\n",
    "    return gpd.GeoDataFrame(closest, geometry=\"geometry\")"
   ]
  },
  {
   "cell_type": "code",
   "execution_count": null,
   "metadata": {},
   "outputs": [],
   "source": [
    "dft_ss = match_dft_ss(dft, ss)\n",
    "dft_ss.head()"
   ]
  },
  {
   "cell_type": "code",
   "execution_count": null,
   "metadata": {},
   "outputs": [],
   "source": [
    "fig, ax = plt.subplots(1, 1, figsize=(20, 20))\n",
    "ss.plot(ax=ax, zorder=1, linewidth=0.75, color=\"gray\")\n",
    "dft_ss.plot(ax=ax, zorder=2, color=\"r\", linewidth=5)\n",
    "ax.axis(\"off\")\n",
    "ax.set_title(\"Space Syntax Segments with DfT Measurement\", fontsize=20)\n",
    "border = 100\n",
    "ax.set_xlim([dft[\"easting\"].min() - border, dft[\"easting\"].max() + border])\n",
    "ax.set_ylim([dft[\"northing\"].min() - border, dft[\"northing\"].max() + border])\n",
    "dft_ss[\"point\"].plot(ax=ax, markersize=64, zorder=3)\n"
   ]
  },
  {
   "cell_type": "code",
   "execution_count": null,
   "metadata": {},
   "outputs": [],
   "source": [
    "column = \"AC__NACH\"\n",
    "\n",
    "plt.figure(figsize=(10, 5))\n",
    "sns.scatterplot(\n",
    "    x=dft_ss[column], y=dft_ss[\"all_motor_vehicles\"], hue=dft_ss[\"road_name\"].str[0]\n",
    ")\n",
    "\n",
    "plt.figure(figsize=(10, 5))\n",
    "sns.scatterplot(\n",
    "    x=np.log(dft_ss[column]),\n",
    "    y=np.log(dft_ss[\"all_motor_vehicles\"]),\n",
    "    hue=dft_ss[\"road_name\"].str[0],\n",
    ")\n",
    "plt.xlabel(f\"log[{column}]\")\n",
    "plt.ylabel(\"log[all_motor_vehicles]\")"
   ]
  },
  {
   "cell_type": "code",
   "execution_count": null,
   "metadata": {},
   "outputs": [],
   "source": [
    "print(np.corrcoef(np.log(dft_ss[\"AC__NACH\"]), np.log(dft_ss[\"all_motor_vehicles\"])))\n",
    "spearmanr(dft_ss[\"AC__NACH\"], dft_ss[\"all_motor_vehicles\"])"
   ]
  },
  {
   "cell_type": "markdown",
   "metadata": {},
   "source": [
    "## Fit"
   ]
  },
  {
   "cell_type": "code",
   "execution_count": null,
   "metadata": {},
   "outputs": [],
   "source": [
    "mask = (dft_ss[\"AC__NACH\"] > 0) & (dft_ss[\"all_motor_vehicles\"] > 0)\n",
    "\n",
    "X = dft_ss[mask][\"AC__NACH\"].values\n",
    "y = dft_ss[mask][\"all_motor_vehicles\"]\n",
    "\n",
    "mdl = PoissonRegressor(fit_intercept=True)\n",
    "mdl.fit(X.reshape(-1, 1), y)\n",
    "print(\"Intercept:\", mdl.intercept_, \", Coef:\", mdl.coef_)\n",
    "print(\"D^2:\", mdl.score(X.reshape(-1, 1), y))\n",
    "\n",
    "y_pred = mdl.predict(X.reshape(-1, 1))\n",
    "resid = y_pred - y\n",
    "dft_ss.loc[mask, \"resid\"] = resid\n",
    "dft_ss.loc[mask, \"pred\"] = y_pred\n",
    "\n",
    "plt.figure(figsize=(10, 5))\n",
    "sns.scatterplot(x=X, y=y, hue=dft_ss[mask][\"road_name\"].str[0])\n",
    "x_range = np.linspace(plt.xlim()[0], plt.xlim()[1], 100)\n",
    "plt.plot(x_range, mdl.predict(x_range.reshape(-1, 1)), \"k\")\n",
    "plt.xlabel(\"AC__NACH\")\n",
    "plt.ylabel(\"all_motor_vehicles\")\n",
    "plt.title(\"Fit\")\n",
    "\n",
    "plt.figure(figsize=(10, 5))\n",
    "sns.scatterplot(\n",
    "    x=dft_ss.loc[mask, \"all_motor_vehicles\"],\n",
    "    y=dft_ss.loc[mask, \"pred\"],\n",
    "    hue=dft_ss[mask][\"road_name\"].str[0],\n",
    ")\n",
    "xlim = plt.xlim()\n",
    "plt.plot(xlim, xlim, \"k--\")\n",
    "plt.xlabel(\"Actual all_motor_vehicles\")\n",
    "plt.ylabel(\"Predicted all_motor_vehicles\")\n",
    "plt.title(\"Actuals\")\n",
    "\n",
    "plt.figure(figsize=(10, 5))\n",
    "sns.scatterplot(\n",
    "    x=dft_ss.loc[mask, \"all_motor_vehicles\"],\n",
    "    y=dft_ss.loc[mask, \"pred\"] - dft_ss.loc[mask, \"all_motor_vehicles\"],\n",
    "    hue=dft_ss[mask][\"road_name\"].str[0],\n",
    ")\n",
    "plt.xlabel(\"Actual all_motor_vehicles\")\n",
    "plt.ylabel(\"Actual - Predicted\")\n",
    "plt.title(\"Residuals\")"
   ]
  },
  {
   "cell_type": "markdown",
   "metadata": {},
   "source": [
    "## Max Space Syntax in Output Area"
   ]
  },
  {
   "cell_type": "code",
   "execution_count": null,
   "metadata": {},
   "outputs": [],
   "source": [
    "oa = get_oa_shapes(lad20cd)\n",
    "oa"
   ]
  },
  {
   "cell_type": "code",
   "execution_count": null,
   "metadata": {},
   "outputs": [],
   "source": [
    "fig, ax = plt.subplots(1, 1, figsize=(12, 12))\n",
    "\n",
    "test_oa = oa.sample().index[0]\n",
    "#oa[\"select\"] = False\n",
    "#oa.loc[test_oa, \"select\"] = True\n",
    "#oa.plot(column=\"select\", ax=ax)\n",
    "#oa.plot(color=\"None\", ax=ax, linewidth=0.5)\n",
    "ss.plot(ax=ax, linewidth=0.5)\n",
    "ss[\n",
    "    ss.crosses(oa.loc[test_oa, \"geometry\"])\n",
    "    | ss.within(oa.loc[test_oa, \"geometry\"])\n",
    "].plot(color=\"r\", ax=ax)\n",
    "plt.title(test_oa)"
   ]
  },
  {
   "cell_type": "code",
   "execution_count": null,
   "metadata": {},
   "outputs": [],
   "source": [
    "oa[\"AC__NACH_max\"] = [\n",
    "    ss[\n",
    "        ss.crosses(oa.loc[oa_name, \"geometry\"]) | ss.within(oa.loc[oa_name, \"geometry\"])\n",
    "    ][\"AC__NACH\"].max()\n",
    "    for oa_name in oa.index\n",
    "]\n",
    "oa[\"AC__NACH_max\"].fillna(1e-6, inplace=True)\n",
    "oa[\"AC__NACH_max\"]"
   ]
  },
  {
   "cell_type": "code",
   "execution_count": null,
   "metadata": {},
   "outputs": [],
   "source": [
    "oa_segments = [\n",
    "    (ss.crosses(oa.loc[oa_name, \"geometry\"]) | ss.within(oa.loc[oa_name, \"geometry\"])).sum()\n",
    "    for oa_name in oa.index\n",
    "]"
   ]
  },
  {
   "cell_type": "code",
   "execution_count": null,
   "metadata": {},
   "outputs": [],
   "source": [
    "oa_segments = pd.Series(oa_segments, index=oa.index)\n",
    "oa_segments.describe()"
   ]
  },
  {
   "cell_type": "code",
   "execution_count": null,
   "metadata": {},
   "outputs": [],
   "source": [
    "# how many space syntax segments in each oa\n",
    "oa_segments.plot.hist(bins=20)\n",
    "\n",
    "plt.figure(figsize=(10, 5))\n",
    "import seaborn as sns\n",
    "sns.ecdfplot(oa_segments)"
   ]
  },
  {
   "cell_type": "code",
   "execution_count": null,
   "metadata": {},
   "outputs": [],
   "source": [
    "# fix log(NaN) and log(0)\n",
    "oa[\"AC__NACH_max\"].fillna(1e-6, inplace=True)\n",
    "oa[\"AC__NACH_max\"].replace(0, 1e-6, inplace=True)\n",
    "\n",
    "oa[\"traffic_max\"] = mdl.predict(oa[\"AC__NACH_max\"].values.reshape(-1, 1))\n",
    "\n",
    "oa"
   ]
  },
  {
   "cell_type": "code",
   "execution_count": null,
   "metadata": {},
   "outputs": [],
   "source": [
    "oa[\"AC__NACH_max\"].describe()"
   ]
  },
  {
   "cell_type": "code",
   "execution_count": null,
   "metadata": {},
   "outputs": [],
   "source": [
    "fig, ax = plt.subplots(1, 1, figsize=(12, 12))\n",
    "plot_oa_weights(\n",
    "    lad20cd,\n",
    "    oa[\"traffic_max\"],\n",
    "    vmin=0,\n",
    "    vmax=None,\n",
    "    ax=ax\n",
    ")\n"
   ]
  },
  {
   "cell_type": "markdown",
   "metadata": {},
   "source": [
    "## Traffic-Optimised Network"
   ]
  },
  {
   "cell_type": "code",
   "execution_count": null,
   "metadata": {},
   "outputs": [],
   "source": [
    "centroids = get_oa_centroids(lad20cd)\n",
    "oa = oa.join(centroids)"
   ]
  },
  {
   "cell_type": "code",
   "execution_count": null,
   "metadata": {},
   "outputs": [],
   "source": [
    "n_sensors = 50\n",
    "theta = 2000"
   ]
  },
  {
   "cell_type": "code",
   "execution_count": null,
   "metadata": {},
   "outputs": [],
   "source": [
    "cm =  coverage_matrix(oa[\"x\"], oa[\"y\"], theta=theta)\n",
    "\n",
    "r = greedy_opt(n_sensors, cm, oa[\"traffic_max\"].values)\n",
    "\n",
    "r = make_result_dict(\n",
    "    lad20cd,\n",
    "    n_sensors,\n",
    "    theta,\n",
    "    oa[\"x\"].values,\n",
    "    oa[\"y\"].values,\n",
    "    oa.index,\n",
    "    r[\"sensors\"],\n",
    "    r[\"total_coverage\"],\n",
    "    r[\"point_coverage\"],\n",
    "    list(oa.index[r[\"placement_history\"]]),\n",
    "    r[\"coverage_history\"],\n",
    "    oa_weight=r[\"weights\"],\n",
    "    pop_age_groups={},\n",
    "    population_weight=0,\n",
    "    workplace_weight=0,\n",
    ")"
   ]
  },
  {
   "cell_type": "code",
   "execution_count": null,
   "metadata": {},
   "outputs": [],
   "source": [
    "plot_optimisation_result(r)"
   ]
  },
  {
   "cell_type": "markdown",
   "metadata": {},
   "source": [
    "## spineq function"
   ]
  },
  {
   "cell_type": "code",
   "execution_count": null,
   "metadata": {},
   "outputs": [],
   "source": [
    "r = optimise(\n",
    "    lad20cd=lad20cd,\n",
    "    n_sensors=n_sensors,\n",
    "    theta=theta,\n",
    "    population_weight=0,\n",
    "    workplace_weight=0,\n",
    "    traffic_weight=1,\n",
    ")\n",
    "plot_optimisation_result(r)"
   ]
  },
  {
   "cell_type": "code",
   "execution_count": null,
   "metadata": {},
   "outputs": [],
   "source": []
  }
 ],
 "metadata": {
  "kernelspec": {
   "display_name": "Python 3",
   "language": "python",
   "name": "python3"
  },
  "language_info": {
   "codemirror_mode": {
    "name": "ipython",
    "version": 3
   },
   "file_extension": ".py",
   "mimetype": "text/x-python",
   "name": "python",
   "nbconvert_exporter": "python",
   "pygments_lexer": "ipython3",
   "version": "3.9.2"
  }
 },
 "nbformat": 4,
 "nbformat_minor": 4
}
