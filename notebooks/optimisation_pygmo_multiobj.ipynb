{
 "cells": [
  {
   "cell_type": "code",
   "execution_count": 118,
   "metadata": {},
   "outputs": [],
   "source": [
    "from spineq.optimise import get_optimisation_inputs\n",
    "from spineq.utils import coverage_matrix\n",
    "from spineq.plotting import plot_optimisation_result\n",
    "from spineq.data_fetcher import get_oa_shapes, get_oa_centroids\n",
    "\n",
    "import pygmo as pg\n",
    "\n",
    "import numpy as np\n",
    "import pandas as pd\n",
    "\n",
    "from time import time\n",
    "\n",
    "import seaborn as sns\n",
    "import matplotlib.pyplot as plt\n",
    "%matplotlib inline"
   ]
  },
  {
   "cell_type": "code",
   "execution_count": 2,
   "metadata": {},
   "outputs": [],
   "source": [
    "n_sensors = 20\n",
    "theta = 500\n",
    "\n",
    "population_weight = 1\n",
    "workplace_weight = 1\n",
    "pop_age_groups = {\n",
    "    \"pop_total\": {\"min\": 0, \"max\": 90, \"weight\": 0},\n",
    "    \"pop_children\": {\"min\": 0, \"max\": 16, \"weight\": 0},\n",
    "    \"pop_elderly\": {\"min\": 70, \"max\": 90, \"weight\": 1},\n",
    "}"
   ]
  },
  {
   "cell_type": "markdown",
   "metadata": {},
   "source": [
    "## Get Input Data"
   ]
  },
  {
   "cell_type": "code",
   "execution_count": 3,
   "metadata": {},
   "outputs": [
    {
     "data": {
      "text/plain": [
       "['pop_elderly', 'workplace']"
      ]
     },
     "execution_count": 3,
     "metadata": {},
     "output_type": "execute_result"
    }
   ],
   "source": [
    "data = get_optimisation_inputs(\n",
    "    population_weight=population_weight,\n",
    "    workplace_weight=workplace_weight,\n",
    "    pop_age_groups=pop_age_groups,\n",
    "    combine=False,\n",
    ")\n",
    "\n",
    "objs = list(data[\"oa_weight\"].keys())\n",
    "objs"
   ]
  },
  {
   "cell_type": "markdown",
   "metadata": {},
   "source": [
    "## PyGMO Multi-Objective Problem\n",
    "\n",
    "- One decision variable for each sen?sor to be placed, variable value is index of location\n",
    "- One objective per separate weight group defined above, e.g. total population, children, elderly and workplace."
   ]
  },
  {
   "cell_type": "code",
   "execution_count": 4,
   "metadata": {},
   "outputs": [],
   "source": [
    "# PyGMO User Defined Problem\n",
    "class optimise_oa:\n",
    "    def __init__(self, oa_x, oa_y, oa_weight,\n",
    "                 n_sensors, theta):\n",
    "        \n",
    "        self.n_sensors = n_sensors\n",
    "        self.n_locations = len(oa_x)\n",
    "        self.n_obj = len(oa_weight)\n",
    "        self.oa_weight = oa_weight\n",
    "        self.coverage = coverage_matrix(oa_x, oa_y, theta=theta)\n",
    "          \n",
    "    def fitness(self, sensors_idx):\n",
    "        \"\"\"\n",
    "        PyGMO required function.\n",
    "        The objective function to minimise. And constraints to evaluate.\n",
    "        \"\"\"\n",
    "        # Construct sensors vector from indices\n",
    "        sensors = np.zeros(self.n_locations)\n",
    "        sensors[sensors_idx.astype(int)] = 1\n",
    "        \n",
    "        fitness_sensors = []\n",
    "        for w in self.oa_weight.values():\n",
    "            # only keep coverages due to output areas where a sensor is present\n",
    "            mask_cov = np.multiply(self.coverage, sensors[np.newaxis, :])\n",
    "\n",
    "            # coverage at each output area = coverage due to nearest sensor\n",
    "            max_mask_cov = np.max(mask_cov, axis=1)\n",
    "\n",
    "            # weighted coverage of solution = the objective\n",
    "            fitness_sensors.append(\n",
    "                -(w * max_mask_cov).sum() / w.sum()\n",
    "            )\n",
    "        \n",
    "        return fitness_sensors\n",
    "    \n",
    "    def get_bounds(self):\n",
    "        \"\"\"\n",
    "        PyGMO required function.\n",
    "        Defines min and max value for each parameter.\n",
    "        \"\"\"\n",
    "        return ([0]*self.n_sensors, [self.n_locations-1]*self.n_sensors)\n",
    "    \n",
    "    # Return number of objectives\n",
    "    def get_nobj(self):\n",
    "        return self.n_obj\n",
    "    \n",
    "    def get_nec(self):\n",
    "        \"\"\"PyGMO function.\n",
    "        Defines number of equality constraints.\"\"\"\n",
    "        return 0\n",
    "    \n",
    "    def get_nix(self):\n",
    "        \"\"\"\n",
    "        PyGMO function.\n",
    "        Number of integer dimensions.\n",
    "        \"\"\"\n",
    "        return self.n_sensors\n",
    "    \n",
    "    def gradient(self, x):\n",
    "        return pg.estimate_gradient_h(lambda x: self.fitness(x), x)\n",
    "    \n"
   ]
  },
  {
   "cell_type": "code",
   "execution_count": 5,
   "metadata": {},
   "outputs": [
    {
     "name": "stdout",
     "output_type": "stream",
     "text": [
      "Problem name: <class '__main__.optimise_oa'>\n",
      "\tC++ class name: pybind11::object\n",
      "\n",
      "\tGlobal dimension:\t\t\t20\n",
      "\tInteger dimension:\t\t\t20\n",
      "\tFitness dimension:\t\t\t2\n",
      "\tNumber of objectives:\t\t\t2\n",
      "\tEquality constraints dimension:\t\t0\n",
      "\tInequality constraints dimension:\t0\n",
      "\tLower bounds: [0, 0, 0, 0, 0, ... ]\n",
      "\tUpper bounds: [951, 951, 951, 951, 951, ... ]\n",
      "\tHas batch fitness evaluation: false\n",
      "\n",
      "\tHas gradient: true\n",
      "\tUser implemented gradient sparsity: false\n",
      "\tExpected gradients: 40\n",
      "\tHas hessians: false\n",
      "\tUser implemented hessians sparsity: false\n",
      "\n",
      "\tFitness evaluations: 0\n",
      "\tGradient evaluations: 0\n",
      "\n",
      "\tThread safety: none\n",
      "\n"
     ]
    }
   ],
   "source": [
    "# Build problem\n",
    "oa_opt = optimise_oa(\n",
    "    data[\"oa_x\"],\n",
    "    data[\"oa_y\"],\n",
    "    data[\"oa_weight\"],\n",
    "    n_sensors,\n",
    "    theta,\n",
    ")\n",
    "\n",
    "prob = pg.problem(oa_opt)\n",
    "\n",
    "print(prob)"
   ]
  },
  {
   "cell_type": "markdown",
   "metadata": {},
   "source": [
    "## NSGA2"
   ]
  },
  {
   "cell_type": "code",
   "execution_count": 6,
   "metadata": {
    "scrolled": true
   },
   "outputs": [
    {
     "name": "stdout",
     "output_type": "stream",
     "text": [
      "Algorithm name: NSGA-II: [stochastic]\n",
      "\tC++ class name: pagmo::nsga2\n",
      "\n",
      "\tThread safety: basic\n",
      "\n",
      "Extra info:\n",
      "\tGenerations: 1000\n",
      "\tCrossover probability: 0.95\n",
      "\tDistribution index for crossover: 10\n",
      "\tMutation probability: 0.01\n",
      "\tDistribution index for mutation: 50\n",
      "\tSeed: 2039513021\n",
      "\tVerbosity: 1\n"
     ]
    }
   ],
   "source": [
    "# Create algorithm to solve problem with\n",
    "algo = pg.algorithm(uda = pg.nsga2(gen=1000))\n",
    "algo.set_verbosity(1)\n",
    "print(algo)\n",
    "\n",
    "# population of problems\n",
    "pop = pg.population(prob=prob, size=100)\n"
   ]
  },
  {
   "cell_type": "code",
   "execution_count": 7,
   "metadata": {},
   "outputs": [
    {
     "name": "stdout",
     "output_type": "stream",
     "text": [
      "f evals 100100\n",
      "g evals 0\n"
     ]
    }
   ],
   "source": [
    "# solve problem\n",
    "pop = algo.evolve(pop)\n",
    "\n",
    "print(\"f evals\", pop.problem.get_fevals())\n",
    "print(\"g evals\", pop.problem.get_gevals())\n",
    "\n",
    "# extract results\n",
    "fits, vectors = pop.get_f(), pop.get_x()\n",
    "# extract non-dominated fronts\n",
    "ndf, dl, dc, ndr = pg.fast_non_dominated_sorting(fits)"
   ]
  },
  {
   "cell_type": "code",
   "execution_count": 8,
   "metadata": {},
   "outputs": [
    {
     "data": {
      "image/png": "[encoded data removed]",
      "text/plain": [
       "<Figure size 576x432 with 1 Axes>"
      ]
     },
     "metadata": {
      "needs_background": "light"
     },
     "output_type": "display_data"
    }
   ],
   "source": [
    "# plot fitness values for first two objectives\n",
    "plt.figure(figsize=(8,6))\n",
    "plt.plot(-fits[:,0], -fits[:,1], 'o')\n",
    "plt.xlabel(objs[0], fontsize=14)\n",
    "plt.ylabel(objs[1], fontsize=14)\n",
    "plt.savefig(\"work_elderly_opt.png\", dpi=200)"
   ]
  },
  {
   "cell_type": "code",
   "execution_count": 9,
   "metadata": {},
   "outputs": [
    {
     "data": {
      "text/plain": [
       "array([[0.19339012, 0.56787449],\n",
       "       [0.19339012, 0.56787449],\n",
       "       [0.1964518 , 0.56777377],\n",
       "       [0.1964518 , 0.56777377],\n",
       "       [0.19941497, 0.56709706],\n",
       "       [0.19941497, 0.56709706],\n",
       "       [0.20232923, 0.5653945 ],\n",
       "       [0.20269628, 0.56520084],\n",
       "       [0.20573414, 0.56509461],\n",
       "       [0.20573414, 0.56509461],\n",
       "       [0.21471401, 0.56403211],\n",
       "       [0.21471401, 0.56403211],\n",
       "       [0.21751123, 0.56376807],\n",
       "       [0.22017907, 0.56285019],\n",
       "       [0.22085007, 0.56188734],\n",
       "       [0.22351791, 0.56096946],\n",
       "       [0.22371319, 0.55768993],\n",
       "       [0.2276191 , 0.55619377],\n",
       "       [0.23041632, 0.55592973],\n",
       "       [0.23065659, 0.55563959],\n",
       "       [0.23332444, 0.55472171],\n",
       "       [0.23392501, 0.5536285 ],\n",
       "       [0.23659285, 0.55271062],\n",
       "       [0.23659285, 0.55271062],\n",
       "       [0.23831115, 0.54938186],\n",
       "       [0.23875497, 0.54830297],\n",
       "       [0.24356168, 0.54780125],\n",
       "       [0.24356168, 0.54780125],\n",
       "       [0.24622952, 0.54688337],\n",
       "       [0.24622952, 0.54688337],\n",
       "       [0.24902479, 0.54337211],\n",
       "       [0.24902479, 0.54337211],\n",
       "       [0.25143098, 0.54125144],\n",
       "       [0.25143098, 0.54125144],\n",
       "       [0.25467095, 0.53922507],\n",
       "       [0.25467095, 0.53922507],\n",
       "       [0.25732057, 0.53821568],\n",
       "       [0.25732057, 0.53821568],\n",
       "       [0.26057955, 0.53618988],\n",
       "       [0.26057955, 0.53618988],\n",
       "       [0.26249315, 0.53291084],\n",
       "       [0.26315625, 0.53069065],\n",
       "       [0.26536334, 0.52785192],\n",
       "       [0.26602644, 0.52563172],\n",
       "       [0.26633565, 0.51842376],\n",
       "       [0.26633565, 0.51842376],\n",
       "       [0.26961136, 0.51639855],\n",
       "       [0.27158863, 0.51285186],\n",
       "       [0.27350223, 0.50957283],\n",
       "       [0.27350223, 0.50957283],\n",
       "       [0.27622395, 0.5064895 ],\n",
       "       [0.27622395, 0.5064895 ],\n",
       "       [0.2778596 , 0.50308102],\n",
       "       [0.27809854, 0.49252601],\n",
       "       [0.27876165, 0.49030581],\n",
       "       [0.28071837, 0.48996957],\n",
       "       [0.28168585, 0.48628544],\n",
       "       [0.28344282, 0.48603439],\n",
       "       [0.28364728, 0.48361051],\n",
       "       [0.2852147 , 0.4805106 ],\n",
       "       [0.28786544, 0.47825808],\n",
       "       [0.28790606, 0.47562659],\n",
       "       [0.28906005, 0.46648106],\n",
       "       [0.28906005, 0.46648106],\n",
       "       [0.29099026, 0.46154689],\n",
       "       [0.29438946, 0.45994812],\n",
       "       [0.29670453, 0.4526771 ],\n",
       "       [0.29670453, 0.4526771 ],\n",
       "       [0.29693484, 0.44457055],\n",
       "       [0.29856225, 0.43867988],\n",
       "       [0.29856624, 0.42677606],\n",
       "       [0.29882874, 0.42655473],\n",
       "       [0.30032418, 0.42354927],\n",
       "       [0.30033115, 0.41265812],\n",
       "       [0.30089542, 0.40700305],\n",
       "       [0.30160987, 0.39977022],\n",
       "       [0.30208877, 0.39708454],\n",
       "       [0.30337975, 0.39650296],\n",
       "       [0.30615481, 0.39573656],\n",
       "       [0.30630587, 0.39328931],\n",
       "       [0.30662874, 0.3822002 ],\n",
       "       [0.30807077, 0.37917138],\n",
       "       [0.30830086, 0.3657115 ],\n",
       "       [0.30845191, 0.36326426],\n",
       "       [0.30917967, 0.35531241],\n",
       "       [0.30917967, 0.35531241],\n",
       "       [0.31005237, 0.34966225],\n",
       "       [0.31020342, 0.34721501],\n",
       "       [0.31043351, 0.33375513],\n",
       "       [0.31058456, 0.33130789],\n",
       "       [0.31115441, 0.32277096],\n",
       "       [0.31154122, 0.31803429],\n",
       "       [0.31187759, 0.3047092 ],\n",
       "       [0.31192235, 0.30212717],\n",
       "       [0.31314477, 0.25725449],\n",
       "       [0.3145868 , 0.25422567],\n",
       "       [0.31507569, 0.23823098],\n",
       "       [0.31512045, 0.23564895],\n",
       "       [0.31639819, 0.2275239 ],\n",
       "       [0.31639819, 0.2275239 ]])"
      ]
     },
     "execution_count": 9,
     "metadata": {},
     "output_type": "execute_result"
    }
   ],
   "source": [
    "# sort fits in order of first objective value\n",
    "x = -fits.copy()\n",
    "x[x[:, 0].argsort()]"
   ]
  },
  {
   "cell_type": "markdown",
   "metadata": {},
   "source": [
    "## Other Algorithms"
   ]
  },
  {
   "cell_type": "code",
   "execution_count": 10,
   "metadata": {
    "scrolled": true
   },
   "outputs": [
    {
     "name": "stdout",
     "output_type": "stream",
     "text": [
      "Algorithm name: MOEAD: MOEA/D - DE [stochastic]\n",
      "\tC++ class name: pagmo::moead\n",
      "\n",
      "\tThread safety: basic\n",
      "\n",
      "Extra info:\n",
      "\tGenerations: 100\n",
      "\tWeight generation: grid\n",
      "\tDecomposition method: tchebycheff\n",
      "\tNeighbourhood size: 20\n",
      "\tParameter CR: 1\n",
      "\tParameter F: 0.5\n",
      "\tDistribution index: 20\n",
      "\tChance for diversity preservation: 0.9\n",
      "\tSeed: 391472875\n",
      "\tVerbosity: 1\n"
     ]
    }
   ],
   "source": [
    "# Create algorithm to solve problem with\n",
    "algo = pg.algorithm(uda = pg.moead(gen=100))\n",
    "algo.set_verbosity(1)\n",
    "print(algo)\n",
    "\n",
    "# population of problems\n",
    "pop = pg.population(prob=prob, size=105)\n"
   ]
  },
  {
   "cell_type": "code",
   "execution_count": 11,
   "metadata": {},
   "outputs": [
    {
     "name": "stdout",
     "output_type": "stream",
     "text": [
      "f evals 10605\n",
      "g evals 0\n"
     ]
    },
    {
     "data": {
      "text/plain": [
       "Text(0, 0.5, 'workplace')"
      ]
     },
     "execution_count": 11,
     "metadata": {},
     "output_type": "execute_result"
    },
    {
     "data": {
      "image/png": "[encoded data removed]",
      "text/plain": [
       "<Figure size 576x432 with 1 Axes>"
      ]
     },
     "metadata": {
      "needs_background": "light"
     },
     "output_type": "display_data"
    }
   ],
   "source": [
    "# solve problem\n",
    "pop = algo.evolve(pop)\n",
    "\n",
    "print(\"f evals\", pop.problem.get_fevals())\n",
    "print(\"g evals\", pop.problem.get_gevals())\n",
    "\n",
    "# extract results\n",
    "fits, vectors = pop.get_f(), pop.get_x()\n",
    "# extract non-dominated fronts\n",
    "ndf, dl, dc, ndr = pg.fast_non_dominated_sorting(fits)\n",
    "\n",
    "# plot fitness values for first two objectives\n",
    "plt.figure(figsize=(8,6))\n",
    "plt.plot(-fits[:,0], -fits[:,1], 'o')\n",
    "plt.xlabel(objs[0], fontsize=14)\n",
    "plt.ylabel(objs[1], fontsize=14)"
   ]
  },
  {
   "cell_type": "markdown",
   "metadata": {},
   "source": [
    "## 3 Objectives?"
   ]
  },
  {
   "cell_type": "code",
   "execution_count": 12,
   "metadata": {},
   "outputs": [
    {
     "data": {
      "text/plain": [
       "['pop_children', 'pop_elderly', 'workplace']"
      ]
     },
     "execution_count": 12,
     "metadata": {},
     "output_type": "execute_result"
    }
   ],
   "source": [
    "population_weight = 1\n",
    "workplace_weight = 1\n",
    "pop_age_groups = {\n",
    "    \"pop_total\": {\"min\": 0, \"max\": 90, \"weight\": 0},\n",
    "    \"pop_children\": {\"min\": 0, \"max\": 16, \"weight\": 1},\n",
    "    \"pop_elderly\": {\"min\": 70, \"max\": 90, \"weight\": 1},\n",
    "}\n",
    "\n",
    "data = get_optimisation_inputs(\n",
    "    population_weight=population_weight,\n",
    "    workplace_weight=workplace_weight,\n",
    "    pop_age_groups=pop_age_groups,\n",
    "    combine=False,\n",
    ")\n",
    "\n",
    "\n",
    "objs = list(data[\"oa_weight\"].keys())\n",
    "objs"
   ]
  },
  {
   "cell_type": "code",
   "execution_count": 13,
   "metadata": {},
   "outputs": [
    {
     "name": "stdout",
     "output_type": "stream",
     "text": [
      "Problem name: <class '__main__.optimise_oa'>\n",
      "\tC++ class name: pybind11::object\n",
      "\n",
      "\tGlobal dimension:\t\t\t20\n",
      "\tInteger dimension:\t\t\t20\n",
      "\tFitness dimension:\t\t\t3\n",
      "\tNumber of objectives:\t\t\t3\n",
      "\tEquality constraints dimension:\t\t0\n",
      "\tInequality constraints dimension:\t0\n",
      "\tLower bounds: [0, 0, 0, 0, 0, ... ]\n",
      "\tUpper bounds: [951, 951, 951, 951, 951, ... ]\n",
      "\tHas batch fitness evaluation: false\n",
      "\n",
      "\tHas gradient: true\n",
      "\tUser implemented gradient sparsity: false\n",
      "\tExpected gradients: 60\n",
      "\tHas hessians: false\n",
      "\tUser implemented hessians sparsity: false\n",
      "\n",
      "\tFitness evaluations: 0\n",
      "\tGradient evaluations: 0\n",
      "\n",
      "\tThread safety: none\n",
      "\n"
     ]
    }
   ],
   "source": [
    "# Build problem\n",
    "oa_opt = optimise_oa(\n",
    "    data[\"oa_x\"],\n",
    "    data[\"oa_y\"],\n",
    "    data[\"oa_weight\"],\n",
    "    n_sensors,\n",
    "    theta,\n",
    ")\n",
    "\n",
    "prob = pg.problem(oa_opt)\n",
    "\n",
    "print(prob)"
   ]
  },
  {
   "cell_type": "code",
   "execution_count": 14,
   "metadata": {},
   "outputs": [
    {
     "name": "stdout",
     "output_type": "stream",
     "text": [
      "Algorithm name: NSGA-II: [stochastic]\n",
      "\tC++ class name: pagmo::nsga2\n",
      "\n",
      "\tThread safety: basic\n",
      "\n",
      "Extra info:\n",
      "\tGenerations: 1000\n",
      "\tCrossover probability: 0.95\n",
      "\tDistribution index for crossover: 10\n",
      "\tMutation probability: 0.01\n",
      "\tDistribution index for mutation: 50\n",
      "\tSeed: 4058792273\n",
      "\tVerbosity: 1\n"
     ]
    }
   ],
   "source": [
    "# Create algorithm to solve problem with\n",
    "algo = pg.algorithm(uda = pg.nsga2(gen=1000))\n",
    "algo.set_verbosity(1)\n",
    "print(algo)\n",
    "\n",
    "# population of problems\n",
    "pop = pg.population(prob=prob, size=100)\n"
   ]
  },
  {
   "cell_type": "code",
   "execution_count": 15,
   "metadata": {},
   "outputs": [
    {
     "name": "stdout",
     "output_type": "stream",
     "text": [
      "f evals 100100\n",
      "g evals 0\n",
      "Best fitness values for single objectives:\n",
      "pop_children -0.33563007012916063\n",
      "pop_elderly -0.31004087889476256\n",
      "workplace -0.5701099685420806\n"
     ]
    }
   ],
   "source": [
    "# solve problem\n",
    "pop = algo.evolve(pop)\n",
    "\n",
    "print(\"f evals\", pop.problem.get_fevals())\n",
    "print(\"g evals\", pop.problem.get_gevals())\n",
    "\n",
    "# extract results\n",
    "fits, vectors = pop.get_f(), pop.get_x()\n",
    "# extract non-dominated fronts\n",
    "ndf, dl, dc, ndr = pg.fast_non_dominated_sorting(fits)\n",
    "\n",
    "print(\"Best fitness values for single objectives:\")\n",
    "for i in range(len(objs)):\n",
    "    print(objs[i], fits[:,i].min())"
   ]
  },
  {
   "cell_type": "code",
   "execution_count": 16,
   "metadata": {},
   "outputs": [
    {
     "data": {
      "text/plain": [
       "Text(0, 0.5, 'workplace')"
      ]
     },
     "execution_count": 16,
     "metadata": {},
     "output_type": "execute_result"
    },
    {
     "data": {
      "image/png": "[encoded data removed]",
      "text/plain": [
       "<Figure size 576x432 with 1 Axes>"
      ]
     },
     "metadata": {
      "needs_background": "light"
     },
     "output_type": "display_data"
    },
    {
     "data": {
      "image/png": "[encoded data removed]",
      "text/plain": [
       "<Figure size 576x432 with 1 Axes>"
      ]
     },
     "metadata": {
      "needs_background": "light"
     },
     "output_type": "display_data"
    },
    {
     "data": {
      "image/png": "[encoded data removed]",
      "text/plain": [
       "<Figure size 576x432 with 1 Axes>"
      ]
     },
     "metadata": {
      "needs_background": "light"
     },
     "output_type": "display_data"
    }
   ],
   "source": [
    "# plot fitness values for two objectives\n",
    "objs = list(data[\"oa_weight\"].keys())\n",
    "\n",
    "plt.figure(figsize=(8,6))\n",
    "plt.plot(-fits[:,0], -fits[:,1], 'o')\n",
    "plt.xlabel(objs[0], fontsize=14)\n",
    "plt.ylabel(objs[1], fontsize=14)\n",
    "\n",
    "plt.figure(figsize=(8,6))\n",
    "plt.plot(-fits[:,0], -fits[:,2], 'o')\n",
    "plt.xlabel(objs[0], fontsize=14)\n",
    "plt.ylabel(objs[2], fontsize=14)\n",
    "\n",
    "plt.figure(figsize=(8,6))\n",
    "plt.plot(-fits[:,1], -fits[:,2], 'o')\n",
    "plt.xlabel(objs[1], fontsize=14)\n",
    "plt.ylabel(objs[2], fontsize=14)"
   ]
  },
  {
   "cell_type": "code",
   "execution_count": 17,
   "metadata": {},
   "outputs": [
    {
     "data": {
      "text/plain": [
       "<matplotlib.legend.Legend at 0x18b2723a0>"
      ]
     },
     "execution_count": 17,
     "metadata": {},
     "output_type": "execute_result"
    },
    {
     "data": {
      "image/png": "[encoded data removed]",
      "text/plain": [
       "<Figure size 576x432 with 1 Axes>"
      ]
     },
     "metadata": {
      "needs_background": "light"
     },
     "output_type": "display_data"
    }
   ],
   "source": [
    "plt.figure(figsize=(8,6))\n",
    "plt.plot(-fits[:,0], -fits[:,1], 'o', label=objs[1])\n",
    "plt.plot(-fits[:,0], -fits[:,2], 'o', label=objs[2])\n",
    "plt.xlabel(objs[0], fontsize=14)\n",
    "plt.ylabel(\"fitness\", fontsize=14)\n",
    "plt.legend()"
   ]
  },
  {
   "cell_type": "code",
   "execution_count": 18,
   "metadata": {},
   "outputs": [
    {
     "data": {
      "text/plain": [
       "array([[0.20778104, 0.19265594, 0.56743187],\n",
       "       [0.20778104, 0.19265594, 0.56743187],\n",
       "       [0.21497477, 0.19494372, 0.56437418],\n",
       "       [0.21532548, 0.1831294 , 0.57010997],\n",
       "       [0.21665965, 0.18341231, 0.56862884],\n",
       "       [0.22093752, 0.20598649, 0.56399799],\n",
       "       [0.22259308, 0.19274934, 0.56699821],\n",
       "       [0.22425701, 0.20740431, 0.56295342],\n",
       "       [0.22564612, 0.20418971, 0.55915325],\n",
       "       [0.22826366, 0.19545826, 0.56312954],\n",
       "       [0.22854049, 0.17631178, 0.5689194 ],\n",
       "       [0.23066061, 0.19744383, 0.55719149],\n",
       "       [0.23398993, 0.17305286, 0.56772819],\n",
       "       [0.23398993, 0.17305286, 0.56772819],\n",
       "       [0.23594455, 0.21158875, 0.55390153],\n",
       "       [0.23594455, 0.21158875, 0.55390153],\n",
       "       [0.24290812, 0.20913025, 0.55605832],\n",
       "       [0.24427181, 0.22131353, 0.54952382],\n",
       "       [0.24487294, 0.18657554, 0.56000073],\n",
       "       [0.24629364, 0.22661485, 0.54866598],\n",
       "       [0.2480879 , 0.20564359, 0.55483297],\n",
       "       [0.25158803, 0.21782818, 0.54939903],\n",
       "       [0.25357595, 0.24437172, 0.51870779],\n",
       "       [0.25364722, 0.18937212, 0.55319994],\n",
       "       [0.25421676, 0.18535862, 0.54853114],\n",
       "       [0.25677928, 0.21434658, 0.54817954],\n",
       "       [0.25823381, 0.23904759, 0.52736852],\n",
       "       [0.25974107, 0.24396977, 0.52081294],\n",
       "       [0.26097651, 0.22883632, 0.54201672],\n",
       "       [0.26311071, 0.25074329, 0.51554969],\n",
       "       [0.26332523, 0.24630432, 0.51654396],\n",
       "       [0.26495542, 0.23373779, 0.53952836],\n",
       "       [0.26495542, 0.23373779, 0.53952836],\n",
       "       [0.26783144, 0.25146518, 0.5091441 ],\n",
       "       [0.26916262, 0.20016237, 0.5467631 ],\n",
       "       [0.26988091, 0.2519336 , 0.48831172],\n",
       "       [0.27348479, 0.20216719, 0.54515334],\n",
       "       [0.27348479, 0.20216719, 0.54515334],\n",
       "       [0.27595461, 0.23072112, 0.5265278 ],\n",
       "       [0.2778436 , 0.22917725, 0.53552071],\n",
       "       [0.27920422, 0.24825701, 0.49958613],\n",
       "       [0.2818649 , 0.24870331, 0.48344501],\n",
       "       [0.28312281, 0.23656756, 0.52473564],\n",
       "       [0.28462489, 0.2267974 , 0.53226374],\n",
       "       [0.28471573, 0.26590407, 0.46849759],\n",
       "       [0.28491348, 0.2692417 , 0.45861048],\n",
       "       [0.28737561, 0.23854222, 0.51098932],\n",
       "       [0.28777322, 0.28995647, 0.38545104],\n",
       "       [0.28801537, 0.28601011, 0.38123988],\n",
       "       [0.28834438, 0.26487069, 0.46023374],\n",
       "       [0.28927458, 0.23989377, 0.50543297],\n",
       "       [0.28948186, 0.2852488 , 0.39374819],\n",
       "       [0.29030524, 0.2798984 , 0.44474183],\n",
       "       [0.2922606 , 0.23725803, 0.49452525],\n",
       "       [0.29265331, 0.25588724, 0.47587415],\n",
       "       [0.29503557, 0.24203895, 0.48219678],\n",
       "       [0.29748008, 0.28250329, 0.39849899],\n",
       "       [0.29799307, 0.28018966, 0.40444808],\n",
       "       [0.30225282, 0.26179765, 0.45132627],\n",
       "       [0.30324214, 0.27224187, 0.44900788],\n",
       "       [0.30382182, 0.27713872, 0.41262899],\n",
       "       [0.30525059, 0.29574505, 0.33343662],\n",
       "       [0.30571674, 0.2662625 , 0.43875636],\n",
       "       [0.30682661, 0.26749811, 0.42137361],\n",
       "       [0.30820211, 0.25459719, 0.4735688 ],\n",
       "       [0.30842493, 0.30057732, 0.31505199],\n",
       "       [0.30907767, 0.28764813, 0.35324917],\n",
       "       [0.30907767, 0.28764813, 0.35324917],\n",
       "       [0.31072866, 0.29284907, 0.30344171],\n",
       "       [0.31077293, 0.29283674, 0.30556799],\n",
       "       [0.31167105, 0.26116473, 0.43054014],\n",
       "       [0.31219767, 0.2884469 , 0.31996588],\n",
       "       [0.31312348, 0.30375819, 0.24392668],\n",
       "       [0.31312348, 0.30375819, 0.24392668],\n",
       "       [0.31416623, 0.28158764, 0.36243382],\n",
       "       [0.31498905, 0.31004088, 0.21934787],\n",
       "       [0.31545626, 0.30664612, 0.22039379],\n",
       "       [0.31582173, 0.30211291, 0.25512255],\n",
       "       [0.31601102, 0.27659091, 0.37654484],\n",
       "       [0.31648778, 0.307465  , 0.20382666],\n",
       "       [0.31697116, 0.30047812, 0.20614769],\n",
       "       [0.3174619 , 0.30609785, 0.20489795],\n",
       "       [0.3208542 , 0.30039643, 0.23803054],\n",
       "       [0.3213776 , 0.2791607 , 0.33948336],\n",
       "       [0.3220686 , 0.25501078, 0.33214449],\n",
       "       [0.32310936, 0.27813203, 0.27430253],\n",
       "       [0.32440517, 0.27430714, 0.29834436],\n",
       "       [0.32471803, 0.30283948, 0.17153855],\n",
       "       [0.32546228, 0.28673583, 0.27162208],\n",
       "       [0.32636832, 0.26336156, 0.2918498 ],\n",
       "       [0.32677539, 0.27520257, 0.20037479],\n",
       "       [0.32738046, 0.29903698, 0.15177406],\n",
       "       [0.32770232, 0.25978436, 0.26929162],\n",
       "       [0.32941452, 0.25512473, 0.29378104],\n",
       "       [0.32984615, 0.27528074, 0.18542404],\n",
       "       [0.33034138, 0.28451666, 0.18290746],\n",
       "       [0.33053145, 0.25996831, 0.26617091],\n",
       "       [0.33247295, 0.27171318, 0.17429701],\n",
       "       [0.33563007, 0.26480201, 0.15739969],\n",
       "       [0.33563007, 0.26480201, 0.15739969]])"
      ]
     },
     "execution_count": 18,
     "metadata": {},
     "output_type": "execute_result"
    }
   ],
   "source": [
    "# sort fits in order of first objective value\n",
    "x = -fits.copy()\n",
    "x[x[:, 0].argsort()]"
   ]
  },
  {
   "cell_type": "code",
   "execution_count": 151,
   "metadata": {},
   "outputs": [
    {
     "data": {
      "image/png": "[encoded data removed]",
      "text/plain": [
       "<Figure size 1080x360 with 3 Axes>"
      ]
     },
     "metadata": {},
     "output_type": "display_data"
    }
   ],
   "source": [
    "df = pd.DataFrame(x, columns=objs)\n",
    "df[\"selected\"] = (df[\"workplace\"] > 0.25) & (df[\"pop_children\"] > 0.25) & (df[\"pop_elderly\"] > 0.25)\n",
    "\n",
    "fig, ax = plt.subplots(1, 3, figsize=(15, 5), sharey=True)\n",
    "sns.set(font_scale=1.5)\n",
    "for i, col in enumerate(objs):\n",
    "    sns.swarmplot(\n",
    "        x=[col]*len(df), y=df[col], hue=df[\"selected\"], ax=ax[i]\n",
    "    )\n",
    "    ax[i].set_ylabel(\"coverage\")\n",
    "    if i > 0:\n",
    "        ax[i].get_legend().remove()"
   ]
  },
  {
   "cell_type": "code",
   "execution_count": null,
   "metadata": {},
   "outputs": [],
   "source": []
  }
 ],
 "metadata": {
  "kernelspec": {
   "display_name": "Python 3",
   "language": "python",
   "name": "python3"
  },
  "language_info": {
   "codemirror_mode": {
    "name": "ipython",
    "version": 3
   },
   "file_extension": ".py",
   "mimetype": "text/x-python",
   "name": "python",
   "nbconvert_exporter": "python",
   "pygments_lexer": "ipython3",
   "version": "3.9.2"
  }
 },
 "nbformat": 4,
 "nbformat_minor": 2
}
